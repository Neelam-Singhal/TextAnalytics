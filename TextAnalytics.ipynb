{
 "cells": [
  {
   "cell_type": "markdown",
   "source": [
    "# Basic Text Features"
   ],
   "metadata": {}
  },
  {
   "cell_type": "code",
   "execution_count": 49,
   "source": [
    "text = \"This has been a great day! I love my life\""
   ],
   "outputs": [],
   "metadata": {}
  },
  {
   "cell_type": "code",
   "execution_count": 52,
   "source": [
    "words = text.split()\r\n",
    "words"
   ],
   "outputs": [
    {
     "output_type": "execute_result",
     "data": {
      "text/plain": [
       "['This', 'has', 'been', 'a', 'great', 'day!', 'I', 'love', 'my', 'life']"
      ]
     },
     "metadata": {},
     "execution_count": 52
    }
   ],
   "metadata": {}
  },
  {
   "cell_type": "code",
   "execution_count": 54,
   "source": [
    "# Feature 1 - Count of words\r\n",
    "len(words)"
   ],
   "outputs": [
    {
     "output_type": "execute_result",
     "data": {
      "text/plain": [
       "10"
      ]
     },
     "metadata": {},
     "execution_count": 54
    }
   ],
   "metadata": {}
  },
  {
   "cell_type": "code",
   "execution_count": 57,
   "source": [
    "# Count number of spaces\r\n",
    "text.count(\" \")"
   ],
   "outputs": [
    {
     "output_type": "execute_result",
     "data": {
      "text/plain": [
       "9"
      ]
     },
     "metadata": {},
     "execution_count": 57
    }
   ],
   "metadata": {}
  },
  {
   "cell_type": "code",
   "execution_count": 58,
   "source": [
    "# Number of characters\r\n",
    "len(text)"
   ],
   "outputs": [
    {
     "output_type": "execute_result",
     "data": {
      "text/plain": [
       "41"
      ]
     },
     "metadata": {},
     "execution_count": 58
    }
   ],
   "metadata": {}
  },
  {
   "cell_type": "code",
   "execution_count": 59,
   "source": [
    "# Number of characters without spaces\r\n",
    "len(text) - text.count(' ')"
   ],
   "outputs": [
    {
     "output_type": "execute_result",
     "data": {
      "text/plain": [
       "32"
      ]
     },
     "metadata": {},
     "execution_count": 59
    }
   ],
   "metadata": {}
  },
  {
   "cell_type": "code",
   "execution_count": 60,
   "source": [
    "# Average word length\r\n",
    "\r\n",
    "(len(text) - text.count(' ')) / len(words)"
   ],
   "outputs": [
    {
     "output_type": "execute_result",
     "data": {
      "text/plain": [
       "3.2"
      ]
     },
     "metadata": {},
     "execution_count": 60
    }
   ],
   "metadata": {}
  },
  {
   "cell_type": "markdown",
   "source": [
    "# Features for Twitter Dataset"
   ],
   "metadata": {}
  },
  {
   "cell_type": "code",
   "execution_count": 10,
   "source": [
    "import pandas as pd"
   ],
   "outputs": [],
   "metadata": {}
  },
  {
   "cell_type": "code",
   "execution_count": 11,
   "source": [
    "tweets = pd.read_csv(\"tweets.csv\")"
   ],
   "outputs": [],
   "metadata": {}
  },
  {
   "cell_type": "code",
   "execution_count": 21,
   "source": [
    "tweets.head()"
   ],
   "outputs": [
    {
     "output_type": "execute_result",
     "data": {
      "text/html": [
       "<div>\n",
       "<style scoped>\n",
       "    .dataframe tbody tr th:only-of-type {\n",
       "        vertical-align: middle;\n",
       "    }\n",
       "\n",
       "    .dataframe tbody tr th {\n",
       "        vertical-align: top;\n",
       "    }\n",
       "\n",
       "    .dataframe thead th {\n",
       "        text-align: right;\n",
       "    }\n",
       "</style>\n",
       "<table border=\"1\" class=\"dataframe\">\n",
       "  <thead>\n",
       "    <tr style=\"text-align: right;\">\n",
       "      <th></th>\n",
       "      <th>id</th>\n",
       "      <th>label</th>\n",
       "      <th>tweet</th>\n",
       "      <th>Word_Count</th>\n",
       "      <th>Space_Count</th>\n",
       "      <th>Character_count</th>\n",
       "    </tr>\n",
       "  </thead>\n",
       "  <tbody>\n",
       "    <tr>\n",
       "      <th>0</th>\n",
       "      <td>1</td>\n",
       "      <td>0</td>\n",
       "      <td>#fingerprint #Pregnancy Test https://goo.gl/h1...</td>\n",
       "      <td>13</td>\n",
       "      <td>12</td>\n",
       "      <td>116</td>\n",
       "    </tr>\n",
       "    <tr>\n",
       "      <th>1</th>\n",
       "      <td>2</td>\n",
       "      <td>0</td>\n",
       "      <td>Finally a transparant silicon case ^^ Thanks t...</td>\n",
       "      <td>17</td>\n",
       "      <td>16</td>\n",
       "      <td>115</td>\n",
       "    </tr>\n",
       "    <tr>\n",
       "      <th>2</th>\n",
       "      <td>3</td>\n",
       "      <td>0</td>\n",
       "      <td>We love this! Would you go? #talk #makememorie...</td>\n",
       "      <td>15</td>\n",
       "      <td>14</td>\n",
       "      <td>109</td>\n",
       "    </tr>\n",
       "    <tr>\n",
       "      <th>3</th>\n",
       "      <td>4</td>\n",
       "      <td>0</td>\n",
       "      <td>I'm wired I know I'm George I was made that wa...</td>\n",
       "      <td>17</td>\n",
       "      <td>16</td>\n",
       "      <td>96</td>\n",
       "    </tr>\n",
       "    <tr>\n",
       "      <th>4</th>\n",
       "      <td>5</td>\n",
       "      <td>1</td>\n",
       "      <td>What amazing service! Apple won't even talk to...</td>\n",
       "      <td>23</td>\n",
       "      <td>22</td>\n",
       "      <td>102</td>\n",
       "    </tr>\n",
       "  </tbody>\n",
       "</table>\n",
       "</div>"
      ],
      "text/plain": [
       "   id  label                                              tweet  Word_Count  \\\n",
       "0   1      0  #fingerprint #Pregnancy Test https://goo.gl/h1...          13   \n",
       "1   2      0  Finally a transparant silicon case ^^ Thanks t...          17   \n",
       "2   3      0  We love this! Would you go? #talk #makememorie...          15   \n",
       "3   4      0  I'm wired I know I'm George I was made that wa...          17   \n",
       "4   5      1  What amazing service! Apple won't even talk to...          23   \n",
       "\n",
       "   Space_Count  Character_count  \n",
       "0           12              116  \n",
       "1           16              115  \n",
       "2           14              109  \n",
       "3           16               96  \n",
       "4           22              102  "
      ]
     },
     "metadata": {},
     "execution_count": 21
    }
   ],
   "metadata": {}
  },
  {
   "cell_type": "markdown",
   "source": [
    "## Find word count"
   ],
   "metadata": {}
  },
  {
   "cell_type": "code",
   "execution_count": 13,
   "source": [
    "tweets[\"Word_Count\"] = [len(i.split()) for i in tweets.tweet ]"
   ],
   "outputs": [],
   "metadata": {}
  },
  {
   "cell_type": "code",
   "execution_count": 15,
   "source": [
    "tweets[\"Space_Count\"] = [i.count(' ') for i in tweets.tweet]"
   ],
   "outputs": [],
   "metadata": {}
  },
  {
   "cell_type": "code",
   "execution_count": 20,
   "source": [
    "# Character Count\r\n",
    "tweets['Character_count'] = [len(i) - i.count(' ') for i in tweets.tweet]"
   ],
   "outputs": [],
   "metadata": {}
  },
  {
   "cell_type": "code",
   "execution_count": 23,
   "source": [
    "tweets.Character_count[1]"
   ],
   "outputs": [
    {
     "output_type": "execute_result",
     "data": {
      "text/plain": [
       "115"
      ]
     },
     "metadata": {},
     "execution_count": 23
    }
   ],
   "metadata": {}
  },
  {
   "cell_type": "markdown",
   "source": [
    "## Average word length"
   ],
   "metadata": {}
  },
  {
   "cell_type": "code",
   "execution_count": 28,
   "source": [
    "avg_wordcount = []\r\n",
    "for i in range(len(tweets)):\r\n",
    "    avg_wordcount.append(tweets.Character_count[i]/tweets.Word_Count[i])\r\n",
    "\r\n",
    "tweets['avg_wordcount'] = avg_wordcount"
   ],
   "outputs": [],
   "metadata": {}
  },
  {
   "cell_type": "markdown",
   "source": [
    "## Build the model"
   ],
   "metadata": {}
  },
  {
   "cell_type": "code",
   "execution_count": 29,
   "source": [
    "tweets.head()"
   ],
   "outputs": [
    {
     "output_type": "execute_result",
     "data": {
      "text/html": [
       "<div>\n",
       "<style scoped>\n",
       "    .dataframe tbody tr th:only-of-type {\n",
       "        vertical-align: middle;\n",
       "    }\n",
       "\n",
       "    .dataframe tbody tr th {\n",
       "        vertical-align: top;\n",
       "    }\n",
       "\n",
       "    .dataframe thead th {\n",
       "        text-align: right;\n",
       "    }\n",
       "</style>\n",
       "<table border=\"1\" class=\"dataframe\">\n",
       "  <thead>\n",
       "    <tr style=\"text-align: right;\">\n",
       "      <th></th>\n",
       "      <th>id</th>\n",
       "      <th>label</th>\n",
       "      <th>tweet</th>\n",
       "      <th>Word_Count</th>\n",
       "      <th>Space_Count</th>\n",
       "      <th>Character_count</th>\n",
       "      <th>avg_wordcount</th>\n",
       "    </tr>\n",
       "  </thead>\n",
       "  <tbody>\n",
       "    <tr>\n",
       "      <th>0</th>\n",
       "      <td>1</td>\n",
       "      <td>0</td>\n",
       "      <td>#fingerprint #Pregnancy Test https://goo.gl/h1...</td>\n",
       "      <td>13</td>\n",
       "      <td>12</td>\n",
       "      <td>116</td>\n",
       "      <td>8.923077</td>\n",
       "    </tr>\n",
       "    <tr>\n",
       "      <th>1</th>\n",
       "      <td>2</td>\n",
       "      <td>0</td>\n",
       "      <td>Finally a transparant silicon case ^^ Thanks t...</td>\n",
       "      <td>17</td>\n",
       "      <td>16</td>\n",
       "      <td>115</td>\n",
       "      <td>6.764706</td>\n",
       "    </tr>\n",
       "    <tr>\n",
       "      <th>2</th>\n",
       "      <td>3</td>\n",
       "      <td>0</td>\n",
       "      <td>We love this! Would you go? #talk #makememorie...</td>\n",
       "      <td>15</td>\n",
       "      <td>14</td>\n",
       "      <td>109</td>\n",
       "      <td>7.266667</td>\n",
       "    </tr>\n",
       "    <tr>\n",
       "      <th>3</th>\n",
       "      <td>4</td>\n",
       "      <td>0</td>\n",
       "      <td>I'm wired I know I'm George I was made that wa...</td>\n",
       "      <td>17</td>\n",
       "      <td>16</td>\n",
       "      <td>96</td>\n",
       "      <td>5.647059</td>\n",
       "    </tr>\n",
       "    <tr>\n",
       "      <th>4</th>\n",
       "      <td>5</td>\n",
       "      <td>1</td>\n",
       "      <td>What amazing service! Apple won't even talk to...</td>\n",
       "      <td>23</td>\n",
       "      <td>22</td>\n",
       "      <td>102</td>\n",
       "      <td>4.434783</td>\n",
       "    </tr>\n",
       "  </tbody>\n",
       "</table>\n",
       "</div>"
      ],
      "text/plain": [
       "   id  label                                              tweet  Word_Count  \\\n",
       "0   1      0  #fingerprint #Pregnancy Test https://goo.gl/h1...          13   \n",
       "1   2      0  Finally a transparant silicon case ^^ Thanks t...          17   \n",
       "2   3      0  We love this! Would you go? #talk #makememorie...          15   \n",
       "3   4      0  I'm wired I know I'm George I was made that wa...          17   \n",
       "4   5      1  What amazing service! Apple won't even talk to...          23   \n",
       "\n",
       "   Space_Count  Character_count  avg_wordcount  \n",
       "0           12              116       8.923077  \n",
       "1           16              115       6.764706  \n",
       "2           14              109       7.266667  \n",
       "3           16               96       5.647059  \n",
       "4           22              102       4.434783  "
      ]
     },
     "metadata": {},
     "execution_count": 29
    }
   ],
   "metadata": {}
  },
  {
   "cell_type": "code",
   "execution_count": 30,
   "source": [
    "X = tweets[[\"Word_Count\",\"Space_Count\", \"Character_count\", \"avg_wordcount\"]]\r\n",
    "y = tweets.label"
   ],
   "outputs": [],
   "metadata": {}
  },
  {
   "cell_type": "code",
   "execution_count": 31,
   "source": [
    "from sklearn.linear_model import LogisticRegression\r\n",
    "from sklearn.model_selection import train_test_split\r\n",
    "from sklearn.metrics import roc_auc_score\r\n",
    "from sklearn.preprocessing import StandardScaler # for standardization"
   ],
   "outputs": [],
   "metadata": {}
  },
  {
   "cell_type": "code",
   "execution_count": 32,
   "source": [
    "# split dataset into train and test set\r\n",
    "xtrain, xtest, ytrain, ytest = train_test_split(StandardScaler().fit_transform(X), y, \r\n",
    "                                                test_size=0.33, random_state=42)"
   ],
   "outputs": [],
   "metadata": {}
  },
  {
   "cell_type": "code",
   "execution_count": 35,
   "source": [
    "lr = LogisticRegression()\r\n",
    "\r\n",
    "lr.fit(xtrain, ytrain)"
   ],
   "outputs": [
    {
     "output_type": "execute_result",
     "data": {
      "text/plain": [
       "LogisticRegression()"
      ]
     },
     "metadata": {},
     "execution_count": 35
    }
   ],
   "metadata": {}
  },
  {
   "cell_type": "code",
   "execution_count": 36,
   "source": [
    "pred = lr.predict(xtest)"
   ],
   "outputs": [],
   "metadata": {}
  },
  {
   "cell_type": "code",
   "execution_count": 37,
   "source": [
    "roc_auc_score(pred, ytest)"
   ],
   "outputs": [
    {
     "output_type": "execute_result",
     "data": {
      "text/plain": [
       "0.7557869910625621"
      ]
     },
     "metadata": {},
     "execution_count": 37
    }
   ],
   "metadata": {}
  },
  {
   "cell_type": "code",
   "execution_count": 38,
   "source": [
    "pip install spacy"
   ],
   "outputs": [
    {
     "output_type": "stream",
     "name": "stdout",
     "text": [
      "Requirement already satisfied: spacy in c:\\users\\neelam\\desktop\\desktop\\python\\video\\env\\lib\\site-packages (3.0.1)\n",
      "Requirement already satisfied: setuptools in c:\\users\\neelam\\desktop\\desktop\\python\\video\\env\\lib\\site-packages (from spacy) (46.1.3)\n",
      "Requirement already satisfied: catalogue<2.1.0,>=2.0.1 in c:\\users\\neelam\\desktop\\desktop\\python\\video\\env\\lib\\site-packages (from spacy) (2.0.1)\n",
      "Requirement already satisfied: pydantic<1.8.0,>=1.7.1 in c:\\users\\neelam\\desktop\\desktop\\python\\video\\env\\lib\\site-packages (from spacy) (1.7.3)\n",
      "Requirement already satisfied: jinja2 in c:\\users\\neelam\\desktop\\desktop\\python\\video\\env\\lib\\site-packages (from spacy) (2.11.3)\n",
      "Requirement already satisfied: cymem<2.1.0,>=2.0.2 in c:\\users\\neelam\\desktop\\desktop\\python\\video\\env\\lib\\site-packages (from spacy) (2.0.5)\n",
      "Requirement already satisfied: spacy-legacy<3.1.0,>=3.0.0 in c:\\users\\neelam\\desktop\\desktop\\python\\video\\env\\lib\\site-packages (from spacy) (3.0.1)\n",
      "Requirement already satisfied: tqdm<5.0.0,>=4.38.0 in c:\\users\\neelam\\desktop\\desktop\\python\\video\\env\\lib\\site-packages (from spacy) (4.56.0)\n",
      "Requirement already satisfied: preshed<3.1.0,>=3.0.2 in c:\\users\\neelam\\desktop\\desktop\\python\\video\\env\\lib\\site-packages (from spacy) (3.0.5)\n",
      "Requirement already satisfied: typer<0.4.0,>=0.3.0 in c:\\users\\neelam\\desktop\\desktop\\python\\video\\env\\lib\\site-packages (from spacy) (0.3.2)\n",
      "Requirement already satisfied: blis<0.8.0,>=0.4.0 in c:\\users\\neelam\\desktop\\desktop\\python\\video\\env\\lib\\site-packages (from spacy) (0.7.4)\n",
      "Requirement already satisfied: srsly<3.0.0,>=2.4.0 in c:\\users\\neelam\\desktop\\desktop\\python\\video\\env\\lib\\site-packages (from spacy) (2.4.0)\n",
      "Requirement already satisfied: murmurhash<1.1.0,>=0.28.0 in c:\\users\\neelam\\desktop\\desktop\\python\\video\\env\\lib\\site-packages (from spacy) (1.0.5)\n",
      "Requirement already satisfied: numpy>=1.15.0 in c:\\users\\neelam\\desktop\\desktop\\python\\video\\env\\lib\\site-packages (from spacy) (1.19.5)\n",
      "Requirement already satisfied: packaging>=20.0 in c:\\users\\neelam\\desktop\\desktop\\python\\video\\env\\lib\\site-packages (from spacy) (20.9)\n",
      "Requirement already satisfied: requests<3.0.0,>=2.13.0 in c:\\users\\neelam\\desktop\\desktop\\python\\video\\env\\lib\\site-packages (from spacy) (2.25.1)\n",
      "Requirement already satisfied: pathy in c:\\users\\neelam\\desktop\\desktop\\python\\video\\env\\lib\\site-packages (from spacy) (0.3.5)\n",
      "Requirement already satisfied: wasabi<1.1.0,>=0.8.1 in c:\\users\\neelam\\desktop\\desktop\\python\\video\\env\\lib\\site-packages (from spacy) (0.8.2)\n",
      "Requirement already satisfied: thinc<8.1.0,>=8.0.0 in c:\\users\\neelam\\desktop\\desktop\\python\\video\\env\\lib\\site-packages (from spacy) (8.0.1)\n",
      "Requirement already satisfied: MarkupSafe>=0.23 in c:\\users\\neelam\\desktop\\desktop\\python\\video\\env\\lib\\site-packages (from jinja2->spacy) (1.1.1)\n",
      "Requirement already satisfied: click<7.2.0,>=7.1.1 in c:\\users\\neelam\\desktop\\desktop\\python\\video\\env\\lib\\site-packages (from typer<0.4.0,>=0.3.0->spacy) (7.1.2)\n",
      "Requirement already satisfied: pyparsing>=2.0.2 in c:\\users\\neelam\\desktop\\desktop\\python\\video\\env\\lib\\site-packages (from packaging>=20.0->spacy) (2.4.7)Note: you may need to restart the kernel to use updated packages.\n",
      "Requirement already satisfied: urllib3<1.27,>=1.21.1 in c:\\users\\neelam\\desktop\\desktop\\python\\video\\env\\lib\\site-packages (from requests<3.0.0,>=2.13.0->spacy) (1.26.3)\n",
      "Requirement already satisfied: idna<3,>=2.5 in c:\\users\\neelam\\desktop\\desktop\\python\\video\\env\\lib\\site-packages (from requests<3.0.0,>=2.13.0->spacy) (2.10)\n",
      "Requirement already satisfied: chardet<5,>=3.0.2 in c:\\users\\neelam\\desktop\\desktop\\python\\video\\env\\lib\\site-packages (from requests<3.0.0,>=2.13.0->spacy) (4.0.0)\n",
      "Requirement already satisfied: certifi>=2017.4.17 in c:\\users\\neelam\\desktop\\desktop\\python\\video\\env\\lib\\site-packages (from requests<3.0.0,>=2.13.0->spacy) (2020.12.5)\n",
      "Requirement already satisfied: smart-open<4.0.0,>=2.2.0 in c:\\users\\neelam\\desktop\\desktop\\python\\video\\env\\lib\\site-packages (from pathy->spacy) (3.0.0)\n",
      "\n"
     ]
    },
    {
     "output_type": "stream",
     "name": "stderr",
     "text": [
      "WARNING: You are using pip version 20.0.2; however, version 21.2.4 is available.\n",
      "You should consider upgrading via the 'c:\\Users\\Neelam\\Desktop\\Desktop\\Python\\Video\\env\\Scripts\\python.exe -m pip install --upgrade pip' command.\n"
     ]
    }
   ],
   "metadata": {}
  },
  {
   "cell_type": "code",
   "execution_count": 43,
   "source": [
    "pip install en_core_web_sm\r\n"
   ],
   "outputs": [
    {
     "output_type": "stream",
     "name": "stdout",
     "text": [
      "Requirement already satisfied: en_core_web_sm in c:\\users\\neelam\\desktop\\desktop\\python\\video\\env\\lib\\site-packages (3.0.0)Note: you may need to restart the kernel to use updated packages.\n",
      "Requirement already satisfied: spacy<3.1.0,>=3.0.0 in c:\\users\\neelam\\desktop\\desktop\\python\\video\\env\\lib\\site-packages (from en_core_web_sm) (3.0.1)\n",
      "Requirement already satisfied: spacy-legacy<3.1.0,>=3.0.0 in c:\\users\\neelam\\desktop\\desktop\\python\\video\\env\\lib\\site-packages (from spacy<3.1.0,>=3.0.0->en_core_web_sm) (3.0.1)\n",
      "Requirement already satisfied: catalogue<2.1.0,>=2.0.1 in c:\\users\\neelam\\desktop\\desktop\\python\\video\\env\\lib\\site-packages (from spacy<3.1.0,>=3.0.0->en_core_web_sm) (2.0.1)\n",
      "Requirement already satisfied: thinc<8.1.0,>=8.0.0 in c:\\users\\neelam\\desktop\\desktop\\python\\video\\env\\lib\\site-packages (from spacy<3.1.0,>=3.0.0->en_core_web_sm) (8.0.1)\n",
      "Requirement already satisfied: cymem<2.1.0,>=2.0.2 in c:\\users\\neelam\\desktop\\desktop\\python\\video\\env\\lib\\site-packages (from spacy<3.1.0,>=3.0.0->en_core_web_sm) (2.0.5)\n",
      "Requirement already satisfied: preshed<3.1.0,>=3.0.2 in c:\\users\\neelam\\desktop\\desktop\\python\\video\\env\\lib\\site-packages (from spacy<3.1.0,>=3.0.0->en_core_web_sm) (3.0.5)\n",
      "Requirement already satisfied: tqdm<5.0.0,>=4.38.0 in c:\\users\\neelam\\desktop\\desktop\\python\\video\\env\\lib\\site-packages (from spacy<3.1.0,>=3.0.0->en_core_web_sm) (4.56.0)\n",
      "Requirement already satisfied: pydantic<1.8.0,>=1.7.1 in c:\\users\\neelam\\desktop\\desktop\\python\\video\\env\\lib\\site-packages (from spacy<3.1.0,>=3.0.0->en_core_web_sm) (1.7.3)\n",
      "Requirement already satisfied: typer<0.4.0,>=0.3.0 in c:\\users\\neelam\\desktop\\desktop\\python\\video\\env\\lib\\site-packages (from spacy<3.1.0,>=3.0.0->en_core_web_sm) (0.3.2)\n",
      "Requirement already satisfied: srsly<3.0.0,>=2.4.0 in c:\\users\\neelam\\desktop\\desktop\\python\\video\\env\\lib\\site-packages (from spacy<3.1.0,>=3.0.0->en_core_web_sm) (2.4.0)\n",
      "Requirement already satisfied: wasabi<1.1.0,>=0.8.1 in c:\\users\\neelam\\desktop\\desktop\\python\\video\\env\\lib\\site-packages (from spacy<3.1.0,>=3.0.0->en_core_web_sm) (0.8.2)\n",
      "Requirement already satisfied: jinja2 in c:\\users\\neelam\\desktop\\desktop\\python\\video\\env\\lib\\site-packages (from spacy<3.1.0,>=3.0.0->en_core_web_sm) (2.11.3)\n",
      "Requirement already satisfied: blis<0.8.0,>=0.4.0 in c:\\users\\neelam\\desktop\\desktop\\python\\video\\env\\lib\\site-packages (from spacy<3.1.0,>=3.0.0->en_core_web_sm) (0.7.4)\n",
      "\n",
      "Requirement already satisfied: pathy in c:\\users\\neelam\\desktop\\desktop\\python\\video\\env\\lib\\site-packages (from spacy<3.1.0,>=3.0.0->en_core_web_sm) (0.3.5)\n",
      "Requirement already satisfied: numpy>=1.15.0 in c:\\users\\neelam\\desktop\\desktop\\python\\video\\env\\lib\\site-packages (from spacy<3.1.0,>=3.0.0->en_core_web_sm) (1.19.5)\n",
      "Requirement already satisfied: requests<3.0.0,>=2.13.0 in c:\\users\\neelam\\desktop\\desktop\\python\\video\\env\\lib\\site-packages (from spacy<3.1.0,>=3.0.0->en_core_web_sm) (2.25.1)\n",
      "Requirement already satisfied: setuptools in c:\\users\\neelam\\desktop\\desktop\\python\\video\\env\\lib\\site-packages (from spacy<3.1.0,>=3.0.0->en_core_web_sm) (46.1.3)\n",
      "Requirement already satisfied: packaging>=20.0 in c:\\users\\neelam\\desktop\\desktop\\python\\video\\env\\lib\\site-packages (from spacy<3.1.0,>=3.0.0->en_core_web_sm) (20.9)\n",
      "Requirement already satisfied: murmurhash<1.1.0,>=0.28.0 in c:\\users\\neelam\\desktop\\desktop\\python\\video\\env\\lib\\site-packages (from spacy<3.1.0,>=3.0.0->en_core_web_sm) (1.0.5)\n",
      "Requirement already satisfied: click<7.2.0,>=7.1.1 in c:\\users\\neelam\\desktop\\desktop\\python\\video\\env\\lib\\site-packages (from typer<0.4.0,>=0.3.0->spacy<3.1.0,>=3.0.0->en_core_web_sm) (7.1.2)\n",
      "Requirement already satisfied: MarkupSafe>=0.23 in c:\\users\\neelam\\desktop\\desktop\\python\\video\\env\\lib\\site-packages (from jinja2->spacy<3.1.0,>=3.0.0->en_core_web_sm) (1.1.1)\n",
      "Requirement already satisfied: smart-open<4.0.0,>=2.2.0 in c:\\users\\neelam\\desktop\\desktop\\python\\video\\env\\lib\\site-packages (from pathy->spacy<3.1.0,>=3.0.0->en_core_web_sm) (3.0.0)\n",
      "Requirement already satisfied: idna<3,>=2.5 in c:\\users\\neelam\\desktop\\desktop\\python\\video\\env\\lib\\site-packages (from requests<3.0.0,>=2.13.0->spacy<3.1.0,>=3.0.0->en_core_web_sm) (2.10)\n",
      "Requirement already satisfied: chardet<5,>=3.0.2 in c:\\users\\neelam\\desktop\\desktop\\python\\video\\env\\lib\\site-packages (from requests<3.0.0,>=2.13.0->spacy<3.1.0,>=3.0.0->en_core_web_sm) (4.0.0)\n",
      "Requirement already satisfied: urllib3<1.27,>=1.21.1 in c:\\users\\neelam\\desktop\\desktop\\python\\video\\env\\lib\\site-packages (from requests<3.0.0,>=2.13.0->spacy<3.1.0,>=3.0.0->en_core_web_sm) (1.26.3)\n",
      "Requirement already satisfied: certifi>=2017.4.17 in c:\\users\\neelam\\desktop\\desktop\\python\\video\\env\\lib\\site-packages (from requests<3.0.0,>=2.13.0->spacy<3.1.0,>=3.0.0->en_core_web_sm) (2020.12.5)\n",
      "Requirement already satisfied: pyparsing>=2.0.2 in c:\\users\\neelam\\desktop\\desktop\\python\\video\\env\\lib\\site-packages (from packaging>=20.0->spacy<3.1.0,>=3.0.0->en_core_web_sm) (2.4.7)\n"
     ]
    },
    {
     "output_type": "stream",
     "name": "stderr",
     "text": [
      "WARNING: You are using pip version 20.0.2; however, version 21.2.4 is available.\n",
      "You should consider upgrading via the 'c:\\Users\\Neelam\\Desktop\\Desktop\\Python\\Video\\env\\Scripts\\python.exe -m pip install --upgrade pip' command.\n"
     ]
    }
   ],
   "metadata": {}
  },
  {
   "cell_type": "code",
   "execution_count": 44,
   "source": [
    "pip install nltk"
   ],
   "outputs": [
    {
     "output_type": "stream",
     "name": "stdout",
     "text": [
      "Requirement already satisfied: nltk in c:\\users\\neelam\\desktop\\desktop\\python\\video\\env\\lib\\site-packages (3.5)\n",
      "Requirement already satisfied: tqdm in c:\\users\\neelam\\desktop\\desktop\\python\\video\\env\\lib\\site-packages (from nltk) (4.56.0)\n",
      "Requirement already satisfied: click in c:\\users\\neelam\\desktop\\desktop\\python\\video\\env\\lib\\site-packages (from nltk) (7.1.2)\n",
      "Requirement already satisfied: regex in c:\\users\\neelam\\desktop\\desktop\\python\\video\\env\\lib\\site-packages (from nltk) (2020.11.13)\n",
      "Requirement already satisfied: joblib in c:\\users\\neelam\\desktop\\desktop\\python\\video\\env\\lib\\site-packages (from nltk) (1.0.1)\n",
      "Note: you may need to restart the kernel to use updated packages.\n"
     ]
    },
    {
     "output_type": "stream",
     "name": "stderr",
     "text": [
      "WARNING: You are using pip version 20.0.2; however, version 21.2.4 is available.\n",
      "You should consider upgrading via the 'c:\\Users\\Neelam\\Desktop\\Desktop\\Python\\Video\\env\\Scripts\\python.exe -m pip install --upgrade pip' command.\n"
     ]
    }
   ],
   "metadata": {}
  },
  {
   "cell_type": "code",
   "execution_count": 45,
   "source": [
    "pip install nltk"
   ],
   "outputs": [
    {
     "output_type": "stream",
     "name": "stdout",
     "text": [
      "Requirement already satisfied: nltk in c:\\users\\neelam\\desktop\\desktop\\python\\video\\env\\lib\\site-packages (3.5)Note: you may need to restart the kernel to use updated packages.\n",
      "\n",
      "Requirement already satisfied: tqdm in c:\\users\\neelam\\desktop\\desktop\\python\\video\\env\\lib\\site-packages (from nltk) (4.56.0)\n",
      "Requirement already satisfied: joblib in c:\\users\\neelam\\desktop\\desktop\\python\\video\\env\\lib\\site-packages (from nltk) (1.0.1)\n",
      "Requirement already satisfied: click in c:\\users\\neelam\\desktop\\desktop\\python\\video\\env\\lib\\site-packages (from nltk) (7.1.2)\n",
      "Requirement already satisfied: regex in c:\\users\\neelam\\desktop\\desktop\\python\\video\\env\\lib\\site-packages (from nltk) (2020.11.13)\n"
     ]
    },
    {
     "output_type": "stream",
     "name": "stderr",
     "text": [
      "WARNING: You are using pip version 20.0.2; however, version 21.2.4 is available.\n",
      "You should consider upgrading via the 'c:\\Users\\Neelam\\Desktop\\Desktop\\Python\\Video\\env\\Scripts\\python.exe -m pip install --upgrade pip' command.\n"
     ]
    }
   ],
   "metadata": {}
  },
  {
   "cell_type": "code",
   "execution_count": 46,
   "source": [
    "import nltk"
   ],
   "outputs": [],
   "metadata": {}
  },
  {
   "cell_type": "code",
   "execution_count": 47,
   "source": [
    "nltk.download(\"stopwords\")"
   ],
   "outputs": [
    {
     "output_type": "stream",
     "name": "stderr",
     "text": [
      "[nltk_data] Downloading package stopwords to\n",
      "[nltk_data]     C:\\Users\\Neelam\\AppData\\Roaming\\nltk_data...\n",
      "[nltk_data]   Unzipping corpora\\stopwords.zip.\n"
     ]
    },
    {
     "output_type": "execute_result",
     "data": {
      "text/plain": [
       "True"
      ]
     },
     "metadata": {},
     "execution_count": 47
    }
   ],
   "metadata": {}
  },
  {
   "cell_type": "code",
   "execution_count": 48,
   "source": [
    "pip install scikit-image"
   ],
   "outputs": [
    {
     "output_type": "stream",
     "name": "stdout",
     "text": [
      "Collecting scikit-image\n",
      "  Downloading scikit_image-0.18.3-cp38-cp38-win_amd64.whl (12.2 MB)\n",
      "Requirement already satisfied: matplotlib!=3.0.0,>=2.0.0 in c:\\users\\neelam\\desktop\\desktop\\python\\video\\env\\lib\\site-packages (from scikit-image) (3.3.4)\n",
      "Requirement already satisfied: networkx>=2.0 in c:\\users\\neelam\\desktop\\desktop\\python\\video\\env\\lib\\site-packages (from scikit-image) (2.5)\n",
      "Collecting imageio>=2.3.0\n",
      "  Downloading imageio-2.9.0-py3-none-any.whl (3.3 MB)\n",
      "Collecting PyWavelets>=1.1.1\n",
      "  Downloading PyWavelets-1.1.1-cp38-cp38-win_amd64.whl (4.3 MB)\n",
      "Requirement already satisfied: pillow!=7.1.0,!=7.1.1,>=4.3.0 in c:\\users\\neelam\\desktop\\desktop\\python\\video\\env\\lib\\site-packages (from scikit-image) (8.1.0)\n",
      "Collecting tifffile>=2019.7.26\n",
      "  Downloading tifffile-2021.8.30-py3-none-any.whl (171 kB)\n",
      "Requirement already satisfied: numpy>=1.16.5 in c:\\users\\neelam\\desktop\\desktop\\python\\video\\env\\lib\\site-packages (from scikit-image) (1.19.5)\n",
      "Requirement already satisfied: scipy>=1.0.1 in c:\\users\\neelam\\desktop\\desktop\\python\\video\\env\\lib\\site-packages (from scikit-image) (1.6.1)\n",
      "Requirement already satisfied: cycler>=0.10 in c:\\users\\neelam\\desktop\\desktop\\python\\video\\env\\lib\\site-packages (from matplotlib!=3.0.0,>=2.0.0->scikit-image) (0.10.0)\n",
      "Requirement already satisfied: kiwisolver>=1.0.1 in c:\\users\\neelam\\desktop\\desktop\\python\\video\\env\\lib\\site-packages (from matplotlib!=3.0.0,>=2.0.0->scikit-image) (1.3.1)\n",
      "Requirement already satisfied: python-dateutil>=2.1 in c:\\users\\neelam\\desktop\\desktop\\python\\video\\env\\lib\\site-packages (from matplotlib!=3.0.0,>=2.0.0->scikit-image) (2.8.1)\n",
      "Requirement already satisfied: pyparsing!=2.0.4,!=2.1.2,!=2.1.6,>=2.0.3 in c:\\users\\neelam\\desktop\\desktop\\python\\video\\env\\lib\\site-packages (from matplotlib!=3.0.0,>=2.0.0->scikit-image) (2.4.7)\n",
      "Requirement already satisfied: decorator>=4.3.0 in c:\\users\\neelam\\desktop\\desktop\\python\\video\\env\\lib\\site-packages (from networkx>=2.0->scikit-image) (4.4.2)\n",
      "Requirement already satisfied: six in c:\\users\\neelam\\desktop\\desktop\\python\\video\\env\\lib\\site-packages (from cycler>=0.10->matplotlib!=3.0.0,>=2.0.0->scikit-image) (1.15.0)\n",
      "Installing collected packages: imageio, PyWavelets, tifffile, scikit-image\n",
      "Successfully installed PyWavelets-1.1.1 imageio-2.9.0 scikit-image-0.18.3 tifffile-2021.8.30\n",
      "Note: you may need to restart the kernel to use updated packages.\n"
     ]
    },
    {
     "output_type": "stream",
     "name": "stderr",
     "text": [
      "WARNING: You are using pip version 20.0.2; however, version 21.2.4 is available.\n",
      "You should consider upgrading via the 'c:\\Users\\Neelam\\Desktop\\Desktop\\Python\\Video\\env\\Scripts\\python.exe -m pip install --upgrade pip' command.\n"
     ]
    }
   ],
   "metadata": {}
  },
  {
   "cell_type": "code",
   "execution_count": null,
   "source": [],
   "outputs": [],
   "metadata": {}
  }
 ],
 "metadata": {
  "orig_nbformat": 4,
  "language_info": {
   "name": "python",
   "version": "3.8.2",
   "mimetype": "text/x-python",
   "codemirror_mode": {
    "name": "ipython",
    "version": 3
   },
   "pygments_lexer": "ipython3",
   "nbconvert_exporter": "python",
   "file_extension": ".py"
  },
  "kernelspec": {
   "name": "python3",
   "display_name": "Python 3.8.2 64-bit ('env': venv)"
  },
  "interpreter": {
   "hash": "e905ad718a08ed27c2c36c9ef4f1f873648da9e7705f623e5afe311501acb5e0"
  }
 },
 "nbformat": 4,
 "nbformat_minor": 2
}